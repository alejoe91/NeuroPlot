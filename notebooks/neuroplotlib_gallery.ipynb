{
 "cells": [
  {
   "cell_type": "code",
   "execution_count": null,
   "metadata": {},
   "outputs": [],
   "source": [
    "%matplotlib notebook"
   ]
  },
  {
   "cell_type": "code",
   "execution_count": null,
   "metadata": {},
   "outputs": [],
   "source": [
    "import neuroplotlib as nplt\n",
    "import LFPy\n",
    "from pathlib import Path"
   ]
  },
  {
   "cell_type": "code",
   "execution_count": null,
   "metadata": {},
   "outputs": [],
   "source": [
    "NPLT_PATH = Path(nplt.__path__[0])"
   ]
  },
  {
   "cell_type": "code",
   "execution_count": null,
   "metadata": {},
   "outputs": [],
   "source": [
    "hay_morphology = str(NPLT_PATH.parent / 'morphologies' / 'hay2011.hoc')\n",
    "hall_morphology = str(NPLT_PATH.parent / 'morphologies' / 'hallerman2012.hoc')"
   ]
  },
  {
   "cell_type": "code",
   "execution_count": null,
   "metadata": {},
   "outputs": [],
   "source": [
    "# Create cell morphology from Hay2011\n",
    "hay_cell = LFPy.Cell(morphology=hay_morphology, pt3d=True, delete_sections=True)"
   ]
  },
  {
   "cell_type": "markdown",
   "metadata": {},
   "source": [
    "### Basic plotting (no pt3d information)\n",
    "\n",
    "The basic plotting routins (`plot_neuron()`) use the morphological information of the segments to represent the neuron in 2D or 3D. The function can take an `LFPy.Cell` object as `cell` argument, or a morphology file (.swc, .hoc, or .asc) as the `morphology` argument."
   ]
  },
  {
   "cell_type": "code",
   "execution_count": null,
   "metadata": {},
   "outputs": [],
   "source": [
    "ax_xy = nplt.plot_neuron(cell=hay_cell, plane='xy')"
   ]
  },
  {
   "cell_type": "code",
   "execution_count": null,
   "metadata": {},
   "outputs": [],
   "source": [
    "ax_yz = nplt.plot_neuron(cell=hay_cell, plane='yz')"
   ]
  },
  {
   "cell_type": "code",
   "execution_count": null,
   "metadata": {},
   "outputs": [],
   "source": [
    "ax_xz = nplt.plot_neuron(cell=hay_cell, plane='xz')"
   ]
  },
  {
   "cell_type": "code",
   "execution_count": null,
   "metadata": {},
   "outputs": [],
   "source": [
    "ax_3d = nplt.plot_neuron(cell=hay_cell, plane='3d')"
   ]
  },
  {
   "cell_type": "markdown",
   "metadata": {},
   "source": [
    "### Plot 3d cylinders \n",
    "\n",
    "3D cylinders can be added to a 3D axis using the `plot_cylinder_3d()` function, e.g. to represent a patch pipette."
   ]
  },
  {
   "cell_type": "code",
   "execution_count": null,
   "metadata": {},
   "outputs": [],
   "source": [
    "nplt.plot_cylinder_3d(bottom=[0, 0, 0], direction=[0, 1 ,1], length=100, radius=3, color='c', ax=ax_3d)"
   ]
  },
  {
   "cell_type": "markdown",
   "metadata": {},
   "source": [
    "When the `projection3d` argument is set to `True`, the `plot_neuron()` function outputs the projections on the yz, xy, xz planes and the 3D plot in the same figure"
   ]
  },
  {
   "cell_type": "code",
   "execution_count": null,
   "metadata": {},
   "outputs": [],
   "source": [
    "fig_proj, axes = nplt.plot_neuron(cell=hay_cell, projections3d=True)"
   ]
  },
  {
   "cell_type": "markdown",
   "metadata": {},
   "source": [
    "## Detailed plotting\n",
    "\n",
    "The detailed plotting routins (`plot_neuron()`) use the pt3d information (if present) to plot a detailed representation of the neuron in 2D or 3D. The function can take an LFPy.Cell object as cell argument, or a morphology file (.swc, .hoc, or .asc) as the morphology argument."
   ]
  },
  {
   "cell_type": "code",
   "execution_count": null,
   "metadata": {},
   "outputs": [],
   "source": [
    "ax_xyd = nplt.plot_detailed_neuron(morphology=hall_morphology, plane='xy')"
   ]
  },
  {
   "cell_type": "code",
   "execution_count": null,
   "metadata": {},
   "outputs": [],
   "source": [
    "ax_yzd = nplt.plot_detailed_neuron(morphology=hall_morphology, plane='yz')"
   ]
  },
  {
   "cell_type": "code",
   "execution_count": null,
   "metadata": {},
   "outputs": [],
   "source": [
    "ax_xzd = nplt.plot_detailed_neuron(morphology=hall_morphology, plane='xz')"
   ]
  },
  {
   "cell_type": "code",
   "execution_count": null,
   "metadata": {},
   "outputs": [],
   "source": [
    "ax_3dd = nplt.plot_detailed_neuron(morphology=hall_morphology, plane='3d')"
   ]
  },
  {
   "cell_type": "markdown",
   "metadata": {},
   "source": [
    "## Extra arguments\n",
    "\n",
    "Many plotting parameters can be controlled by several arguments (both for the `plot_neuron()` and `plot_detailed_neuron()` functions). Here are a few examples:"
   ]
  },
  {
   "cell_type": "markdown",
   "metadata": {},
   "source": [
    "### Alpha value (transparency)"
   ]
  },
  {
   "cell_type": "code",
   "execution_count": null,
   "metadata": {},
   "outputs": [],
   "source": [
    "ax_xyd = nplt.plot_neuron(morphology=hall_morphology, plane='xy', alpha=0.2)"
   ]
  },
  {
   "cell_type": "markdown",
   "metadata": {},
   "source": [
    "### Sections to exclude\n",
    "\n",
    "We can only plot a subset of sections using the `exclude_section` argument. Here we remove the `axon`, myelinated `my`, and nodes of Ranvier `node` sections. "
   ]
  },
  {
   "cell_type": "code",
   "execution_count": null,
   "metadata": {},
   "outputs": [],
   "source": [
    "ax_xyd = nplt.plot_neuron(morphology=hall_morphology, plane='xy', exclude_sections=['axon', 'my', 'node'])"
   ]
  },
  {
   "cell_type": "markdown",
   "metadata": {},
   "source": [
    "### Axis limits"
   ]
  },
  {
   "cell_type": "code",
   "execution_count": null,
   "metadata": {},
   "outputs": [],
   "source": [
    "ax_xyd = nplt.plot_neuron(morphology=hall_morphology, plane='xy', xlim=[-50, 50], ylim=[-50, 200])"
   ]
  },
  {
   "cell_type": "markdown",
   "metadata": {},
   "source": [
    "### Colors\n",
    "\n",
    "Sections can be colored differently by using the `color_name-of-section` arguments. The remaining sections will be colored based on the `color` argument (`gray` by default)."
   ]
  },
  {
   "cell_type": "code",
   "execution_count": null,
   "metadata": {},
   "outputs": [],
   "source": [
    "ax_xyd = nplt.plot_neuron(morphology=hall_morphology, plane='xy', \n",
    "                          color_soma='C0', color_dend='C1', color_apic='C2', color='black')"
   ]
  }
 ],
 "metadata": {
  "kernelspec": {
   "display_name": "Python 3",
   "language": "python",
   "name": "python3"
  },
  "language_info": {
   "codemirror_mode": {
    "name": "ipython",
    "version": 3
   },
   "file_extension": ".py",
   "mimetype": "text/x-python",
   "name": "python",
   "nbconvert_exporter": "python",
   "pygments_lexer": "ipython3",
   "version": "3.8.6"
  }
 },
 "nbformat": 4,
 "nbformat_minor": 4
}
